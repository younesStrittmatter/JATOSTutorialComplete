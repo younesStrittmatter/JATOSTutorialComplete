{
 "cells": [
  {
   "cell_type": "markdown",
   "source": [
    "# Stroop Task Sequence\n",
    "\n",
    "Here, we want to create a balanced sequence for the Stroop task. In a Stroop task, an inked color word is shown. Here, we use four different stimuli: <span style=\"color:red\">RED</span>, <span style=\"color:blue\">BLUE</span>, <span style=\"color:red\">RED</span>, <span style=\"color:blue\">BLUE</span>. The task of the participant is to name the color of the word as fast as possible while ignoring the meaning.\n",
    "\n",
    "In the Stroop task, stimuli where the color and the meaning of the word match (<span style=\"color:red\">RED</span>, <span style=\"color:blue\">BLUE</span>) are called congruent stimuli. Stimuli where the color and meaning mismatch (<span style=\"color:blue\">RED</span>, <span style=\"color:red\">BLUE</span>) are called incongruent. It is an extremely robust psychological finding that congruent stimuli lead to faster and more accurate responses than incongruent stimuli. This phenomenon is called `congruency effect`."
   ],
   "metadata": {
    "collapsed": false
   }
  },
  {
   "cell_type": "markdown",
   "source": [
    "## Counterbalance schema\n",
    "\n",
    "Here, we want to replicate the findings and balance multiple stimuli features. In addition to the color, meaning and congruency, we also know that response transitions might have an influence on how well the task is performed. For example, the sequence\n",
    "\n",
    "(1) <span style=\"color:blue\">BLUE</span>, <span style=\"color:blue\">RED</span>, <span style=\"color:blue\">RED</span>, <span style=\"color:blue\">RED</span>, <span style=\"color:red\">BLUE</span>, <span style=\"color:red\">RED</span>, <span style=\"color:red\">BLUE</span>, <span style=\"color:red\">BLUE</span>\n",
    "\n",
    "might be easier then\n",
    "\n",
    "(2) <span style=\"color:blue\">BLUE</span>, <span style=\"color:red\">RED</span>, <span style=\"color:red\">BLUE</span>, <span style=\"color:blue\">BLUE</span>, <span style=\"color:blue\">RED</span>, <span style=\"color:red\">RED</span>, <span style=\"color:blue\">BLUE</span>, <span style=\"color:red\">RED</span>\n",
    "\n",
    "despite the fact, that the first sequence contains more incongruent stimuli. This is due the fact that there is only one response switch in the first sequence, but multiple response switches in the second list.\n",
    "\n",
    "### Factors to balance\n",
    "\n",
    "Here, we want to balance the following factors. To introduce the sweetPea terminology, we call features that we want to balance \"factors\". The individual characteristics in which they can occur are called \"levels\".\n",
    "\n",
    "- *Color*: same amount of `red` and `blue` words\n",
    "- *Word*: same amount of `'RED'` and `'BLUE'` as word stimulus\n",
    "- *Congruency*: same amount of `congruent` and `incongruent` trials\n",
    "- *Response transitions*: same amount of `response switches` as `response repetitions`"
   ],
   "metadata": {
    "collapsed": false
   }
  },
  {
   "cell_type": "markdown",
   "source": [
    "## Crossing\n",
    "Factors can be balanced individually or **crossed**. In many cases, we not only want to balance factors individually, but cross them:\n",
    "\n",
    "In our case we not only want the same amount of `congruent` and `incongruent` tasks, but we also want the same amount of `blue`, `congruent` tasks as `blue`, `incongruent` tasks as `red`, `congruent` tasks as `red`, `incongruent` tasks. In other words, we want to cross the *color* and the *congruency* factor.\n",
    "\n",
    "The same is true for the *response transitions*. We want the same amount of `blue`, `response switch` tasks as `blue`, `response repetition` tasks as `red`, `response switch` tasks as `red`, `response repetition` tasks. In other words, we want to cross the *color* and the *response transition* factor.\n",
    "\n",
    "<br>\n",
    "\n",
    "**!!! WARNING !!!**\n",
    "\n",
    "*Crossings of certain factors might lead to automatically counterbalancing other factors.*\n",
    "\n",
    "*Some crossings are impossible.*\n",
    "\n",
    "In our use case, crossing the *color* of a word and its *word* automatically generates balanced *congruency* (this is only the case when using exactly **two** color levels and **two** different word levels).\n",
    "\n",
    "On the other hand, crossing *color*, *word* and *congruency* all together is impossible. There is no stimulus that is inked `red`, that's word is `'RED'` and that is `incongruent`. In other words, there is no sensible crossing between *color*, *word* and *congruency* since some level combinations are impossible. This is often the case when dealing with \"derived factors\". \"Derived factors\" are factors that depend on other factors. For example, the *congruency* depends on the stimulus *color* and its *word* and solely derives from these factors.\n",
    "\n",
    "*-> Although sweetPea is an amazing tool to create counterbalanced sequences and cross multiple factors including transition factors, we still need to carefully think about our counterbalancing schema before starting to code.*"
   ],
   "metadata": {
    "collapsed": false
   }
  },
  {
   "cell_type": "markdown",
   "source": [
    "## Creating the sequence with sweetPea\n",
    "### Installing SweetPea\n",
    "\n",
    "First, we need to install sweetPea. Here, we use `pip` to install our package.\n",
    "\n",
    "*Note*\n",
    "In jupiter notebooks we can use an `!` in the beginning of the cell to call shell commands. If you are writing a python script, these commands would not be part of your script but be used in your terminal  (without the `!`).\n",
    "\n",
    "Also, %% is `cell magic` in jupiter notebooks. In this case, we supress the output of the cell."
   ],
   "metadata": {
    "collapsed": false
   }
  },
  {
   "cell_type": "code",
   "execution_count": 39,
   "outputs": [],
   "source": [
    "%%capture\n",
    "\n",
    "!pip install sweetpea"
   ],
   "metadata": {
    "collapsed": false
   }
  },
  {
   "cell_type": "markdown",
   "source": [
    "### Importing\n",
    "\n",
    "Here, we import functionality from sweetPea. We explain the different functions and classes in more detail later."
   ],
   "metadata": {
    "collapsed": false
   }
  },
  {
   "cell_type": "code",
   "execution_count": 40,
   "outputs": [],
   "source": [
    "from sweetpea import (Factor, DerivedLevel, WithinTrial, Transition, CrossBlock, MinimumTrials, synthesize_trials, CMSGen, print_experiments, experiments_to_dicts)"
   ],
   "metadata": {
    "collapsed": false
   }
  },
  {
   "cell_type": "markdown",
   "source": [
    "### Regular Factors\n",
    "\n",
    "In this experiment, there are two regular factors: *color* and *word*. Both of these factors have two Levels. First, we declare these factors. As arguments, we give it a name and the levels."
   ],
   "metadata": {
    "collapsed": false
   }
  },
  {
   "cell_type": "code",
   "execution_count": 41,
   "outputs": [],
   "source": [
    "# Declare the color factor\n",
    "color = Factor(name='color', initial_levels=['red', 'blue'])\n",
    "\n",
    "# Declare the word factor\n",
    "word = Factor(name='word', initial_levels=['RED', 'BLUE'])"
   ],
   "metadata": {
    "collapsed": false
   }
  },
  {
   "cell_type": "markdown",
   "source": [
    "### Derived Factor: Congruency\n",
    "\n",
    "Here, we declare *congruency* as derived factor. For reasons mentioned earlier, we will not include this factor in the counterbalancing schema, but we still include it to demonstrate the concept. Also, it will show up in the generated trial sequence, and we can use it as datapoint in the analysis."
   ],
   "metadata": {
    "collapsed": false
   }
  },
  {
   "cell_type": "markdown",
   "source": [
    "#### Defining functions for each congruency level\n",
    "First, we need to declare functions that determine weather a trial is `congruent` or `incongruent`. For each level of congruency, we need a function."
   ],
   "metadata": {
    "collapsed": false
   }
  },
  {
   "cell_type": "code",
   "execution_count": 42,
   "outputs": [],
   "source": [
    "# A trial is congruent if the color matches the lowercase version of its word\n",
    "def is_congruent(col, wrd):\n",
    "    return col == wrd.lower()\n",
    "\n",
    "# A trial is incongruent if it is not congruent\n",
    "def is_incongruent(col, wrd):\n",
    "    return not is_congruent(col, wrd)"
   ],
   "metadata": {
    "collapsed": false
   }
  },
  {
   "cell_type": "markdown",
   "source": [
    "*Note*\n",
    "The above code might be confusing and written to be short. If in doubt, one can always nest if else statements like so:\n",
    "\n",
    "```python\n",
    "def is_congruent(col, wrd):\n",
    "    if col == 'red' and wrd == 'RED':\n",
    "        return True\n",
    "    elif col == 'red' and wrd == 'BLUE':\n",
    "        return False\n",
    "    elif col == 'blue' and wrd == 'RED':\n",
    "        return False\n",
    "    elif col == 'blue' and wrd == 'BLUE':\n",
    "        return True\n",
    "\n",
    "def is_incongruent(col, wrd):\n",
    "    ...\n",
    "```\n",
    "\n",
    "However, defining is_incongruent as negation of is_congruent is good practice. It ensures, that a stimulus can either be `congruent` or `incongruent` and there is no undefined factor level for *congruency*. We use the \"WithinTrial\" method to indicate that congruency depends on other factors within one trial (later we will show how to deal with transitions that depend on factors of different trials, e.g. of the current and a previous trial)"
   ],
   "metadata": {
    "collapsed": false
   }
  },
  {
   "cell_type": "markdown",
   "source": [
    "#### Defining the derived levels\n",
    "Now, we declare the levels with the use of the functions. A derived level expects a name and a \"Window\". The \"Window\" itself needs a function to call and the trial factors (as a list) on witch to call the function. For example, the `congruent` level is named \"congruent\" and uses a WithinTrial window that calls the function \"is_congruent\" on the factors *color* and *word*."
   ],
   "metadata": {
    "collapsed": false
   }
  },
  {
   "cell_type": "code",
   "execution_count": 43,
   "outputs": [],
   "source": [
    "congruent = DerivedLevel('congruent', WithinTrial(is_congruent,   [color, word]))\n",
    "incongruent = DerivedLevel('incongruent', WithinTrial(is_incongruent,   [color, word]))"
   ],
   "metadata": {
    "collapsed": false
   }
  },
  {
   "cell_type": "markdown",
   "source": [
    "#### Defining the congruency factor\n",
    "As with the other factors, we now can define the congruency factor with the levels we just created."
   ],
   "metadata": {
    "collapsed": false
   }
  },
  {
   "cell_type": "code",
   "execution_count": 44,
   "outputs": [],
   "source": [
    "congruency = Factor(name='congruency', initial_levels=[congruent, incongruent])"
   ],
   "metadata": {
    "collapsed": false
   }
  },
  {
   "cell_type": "markdown",
   "source": [
    "### Transition Factor: Response Transition\n",
    "We also want to counterbalance (and cross) the response transitions. Again, we need to define the functions, levels, and finally the factor. The procedure is the same as with derived factors, but instead of a WithinTrial window, we will use a transition Window. In the functions, we will index the input arguments to indicate what trial to use (0 is current -1 is previous, ...)"
   ],
   "metadata": {
    "collapsed": false
   }
  },
  {
   "cell_type": "code",
   "execution_count": 45,
   "outputs": [],
   "source": [
    "## FUNCTIONS\n",
    "# A trial is a response repetition trial if the current color is not the same as the previous color\n",
    "def is_response_repetition(col):\n",
    "    return col[0] == col[-1]\n",
    "\n",
    "# A trial is a response switch trial if it is not a response repeatition trial\n",
    "def is_response_switch(col):\n",
    "    return not is_response_repetition(col)\n",
    "\n",
    "## LEVELS\n",
    "response_repetition = DerivedLevel('response_repetition', Transition(is_response_repetition, [color]))\n",
    "response_switch = DerivedLevel('response_switch', Transition(is_response_switch, [color]))\n",
    "\n",
    "## FACTOR\n",
    "response_transition = Factor(name='response_transition', initial_levels=[response_repetition, response_switch])"
   ],
   "metadata": {
    "collapsed": false
   }
  },
  {
   "cell_type": "markdown",
   "source": [
    "### Constraints\n",
    "SweetPea allows multiple sequential constraints for the created task sequences. For example, how many response repetition are allowed in a row. Here, the only constraint we are using is that our sequence should at least have 20 trials. For more on this, see [sweetPea-Constraints](https://sweetpea-org.github.io/api/constraints.html)."
   ],
   "metadata": {
    "collapsed": false
   }
  },
  {
   "cell_type": "code",
   "execution_count": 46,
   "outputs": [],
   "source": [
    "minimum_trials_constraint = MinimumTrials(20)"
   ],
   "metadata": {
    "collapsed": false
   }
  },
  {
   "cell_type": "markdown",
   "source": [
    "### Define the experiment\n",
    "We can now define the design (what factors to include) and the crossing of the experiment. As mentioned before, sweetPea also allows for multiple individual crossings, but here we will use a single crossing."
   ],
   "metadata": {
    "collapsed": false
   }
  },
  {
   "cell_type": "code",
   "execution_count": 47,
   "outputs": [],
   "source": [
    "# Define the design, crossing and constraints\n",
    "design = [color, word, congruency, response_transition]\n",
    "crossing = [color, word, response_transition]\n",
    "constraints = [minimum_trials_constraint]\n",
    "\n",
    "# Create a crossed block\n",
    "block = CrossBlock(design=design, crossing=crossing, constraints=constraints)"
   ],
   "metadata": {
    "collapsed": false
   }
  },
  {
   "cell_type": "markdown",
   "source": [
    "### Synthesize sequences\n",
    "With the block defined, we can now synthesize trial sequences. Let's create 5 sequences and look at them. Here, we also pass in an argument called sampling_strategy. This indicates what strategy to use. Strategies differ in *speed* for creating trial sequences, *uniformity* of the sequence distribution, and *replacement* (can a trial sequence occur multiple times). We suggest using `CMSGen` in most cases. For more on this, see [sweetPea-Sampling Strategies](https://sweetpea-org.github.io/api/sampling_strategies.html)"
   ],
   "metadata": {
    "collapsed": false
   }
  },
  {
   "cell_type": "code",
   "execution_count": 48,
   "outputs": [
    {
     "name": "stdout",
     "output_type": "stream",
     "text": [
      "Sampling 5 trial sequences using CMSGen.\n",
      "WARNING: Dependencies among factors may make the crossing unsatisfiable:\n",
      " 'response_transition' depends on 'color'\n",
      "Encoding experiment constraints...\n",
      "Running CMSGen...\n"
     ]
    }
   ],
   "source": [
    "experiment = synthesize_trials(block=block, samples=5, sampling_strategy=CMSGen)"
   ],
   "metadata": {
    "collapsed": false
   }
  },
  {
   "cell_type": "code",
   "execution_count": 49,
   "outputs": [
    {
     "name": "stdout",
     "output_type": "stream",
     "text": [
      "\n",
      "5 trial sequences found.\n",
      "\n",
      "Experiment 0:\n",
      "color red  | word RED  | response_transition    | congruency congruent                   \n",
      "color blue | word BLUE | response_transition response_switch | congruency congruent                   \n",
      "color blue | word BLUE | response_transition response_repetition | congruency congruent                   \n",
      "color blue | word RED  | response_transition response_repetition | congruency incongruent                 \n",
      "color red  | word BLUE | response_transition response_switch | congruency incongruent                 \n",
      "color blue | word RED  | response_transition response_switch | congruency incongruent                 \n",
      "color red  | word RED  | response_transition response_switch | congruency congruent                   \n",
      "color blue | word RED  | response_transition response_switch | congruency incongruent                 \n",
      "color red  | word BLUE | response_transition response_switch | congruency incongruent                 \n",
      "color red  | word BLUE | response_transition response_repetition | congruency incongruent                 \n",
      "color blue | word RED  | response_transition response_switch | congruency incongruent                 \n",
      "color red  | word RED  | response_transition response_switch | congruency congruent                   \n",
      "color blue | word BLUE | response_transition response_switch | congruency congruent                   \n",
      "color red  | word BLUE | response_transition response_switch | congruency incongruent                 \n",
      "color red  | word RED  | response_transition response_repetition | congruency congruent                   \n",
      "color red  | word BLUE | response_transition response_repetition | congruency incongruent                 \n",
      "color red  | word BLUE | response_transition response_repetition | congruency incongruent                 \n",
      "color blue | word BLUE | response_transition response_switch | congruency congruent                   \n",
      "color blue | word RED  | response_transition response_repetition | congruency incongruent                 \n",
      "color red  | word RED  | response_transition response_switch | congruency congruent                   \n",
      "\n",
      "Experiment 1:\n",
      "color red  | word RED  | response_transition    | congruency congruent                   \n",
      "color red  | word BLUE | response_transition response_repetition | congruency incongruent                 \n",
      "color red  | word RED  | response_transition response_repetition | congruency congruent                   \n",
      "color blue | word BLUE | response_transition response_switch | congruency congruent                   \n",
      "color red  | word RED  | response_transition response_switch | congruency congruent                   \n",
      "color red  | word BLUE | response_transition response_repetition | congruency incongruent                 \n",
      "color blue | word RED  | response_transition response_switch | congruency incongruent                 \n",
      "color red  | word BLUE | response_transition response_switch | congruency incongruent                 \n",
      "color red  | word RED  | response_transition response_repetition | congruency congruent                   \n",
      "color blue | word RED  | response_transition response_switch | congruency incongruent                 \n",
      "color blue | word RED  | response_transition response_repetition | congruency incongruent                 \n",
      "color red  | word BLUE | response_transition response_switch | congruency incongruent                 \n",
      "color blue | word BLUE | response_transition response_switch | congruency congruent                   \n",
      "color red  | word RED  | response_transition response_switch | congruency congruent                   \n",
      "color blue | word RED  | response_transition response_switch | congruency incongruent                 \n",
      "color red  | word BLUE | response_transition response_switch | congruency incongruent                 \n",
      "color blue | word BLUE | response_transition response_switch | congruency congruent                   \n",
      "color blue | word BLUE | response_transition response_repetition | congruency congruent                   \n",
      "color blue | word RED  | response_transition response_repetition | congruency incongruent                 \n",
      "color red  | word RED  | response_transition response_switch | congruency congruent                   \n",
      "\n",
      "Experiment 2:\n",
      "color blue | word RED  | response_transition    | congruency incongruent                 \n",
      "color red  | word RED  | response_transition response_switch | congruency congruent                   \n",
      "color blue | word RED  | response_transition response_switch | congruency incongruent                 \n",
      "color blue | word RED  | response_transition response_repetition | congruency incongruent                 \n",
      "color red  | word BLUE | response_transition response_switch | congruency incongruent                 \n",
      "color red  | word RED  | response_transition response_repetition | congruency congruent                   \n",
      "color red  | word BLUE | response_transition response_repetition | congruency incongruent                 \n",
      "color red  | word BLUE | response_transition response_repetition | congruency incongruent                 \n",
      "color blue | word RED  | response_transition response_switch | congruency incongruent                 \n",
      "color blue | word RED  | response_transition response_repetition | congruency incongruent                 \n",
      "color blue | word BLUE | response_transition response_repetition | congruency congruent                   \n",
      "color blue | word RED  | response_transition response_repetition | congruency incongruent                 \n",
      "color red  | word BLUE | response_transition response_switch | congruency incongruent                 \n",
      "color red  | word RED  | response_transition response_repetition | congruency congruent                   \n",
      "color red  | word RED  | response_transition response_repetition | congruency congruent                   \n",
      "color red  | word BLUE | response_transition response_repetition | congruency incongruent                 \n",
      "color blue | word BLUE | response_transition response_switch | congruency congruent                   \n",
      "color blue | word BLUE | response_transition response_repetition | congruency congruent                   \n",
      "color blue | word BLUE | response_transition response_repetition | congruency congruent                   \n",
      "color red  | word RED  | response_transition response_switch | congruency congruent                   \n",
      "\n",
      "Experiment 3:\n",
      "color red  | word RED  | response_transition    | congruency congruent                   \n",
      "color red  | word BLUE | response_transition response_repetition | congruency incongruent                 \n",
      "color blue | word BLUE | response_transition response_switch | congruency congruent                   \n",
      "color red  | word RED  | response_transition response_switch | congruency congruent                   \n",
      "color blue | word RED  | response_transition response_switch | congruency incongruent                 \n",
      "color red  | word BLUE | response_transition response_switch | congruency incongruent                 \n",
      "color blue | word BLUE | response_transition response_switch | congruency congruent                   \n",
      "color red  | word BLUE | response_transition response_switch | congruency incongruent                 \n",
      "color red  | word RED  | response_transition response_repetition | congruency congruent                   \n",
      "color red  | word RED  | response_transition response_repetition | congruency congruent                   \n",
      "color red  | word RED  | response_transition response_repetition | congruency congruent                   \n",
      "color red  | word BLUE | response_transition response_repetition | congruency incongruent                 \n",
      "color blue | word RED  | response_transition response_switch | congruency incongruent                 \n",
      "color blue | word RED  | response_transition response_repetition | congruency incongruent                 \n",
      "color blue | word RED  | response_transition response_repetition | congruency incongruent                 \n",
      "color blue | word RED  | response_transition response_repetition | congruency incongruent                 \n",
      "color blue | word BLUE | response_transition response_repetition | congruency congruent                   \n",
      "color blue | word BLUE | response_transition response_repetition | congruency congruent                   \n",
      "color red  | word BLUE | response_transition response_switch | congruency incongruent                 \n",
      "color red  | word BLUE | response_transition response_repetition | congruency incongruent                 \n",
      "\n",
      "Experiment 4:\n",
      "color red  | word BLUE | response_transition    | congruency incongruent                 \n",
      "color blue | word BLUE | response_transition response_switch | congruency congruent                   \n",
      "color blue | word RED  | response_transition response_repetition | congruency incongruent                 \n",
      "color red  | word RED  | response_transition response_switch | congruency congruent                   \n",
      "color blue | word RED  | response_transition response_switch | congruency incongruent                 \n",
      "color red  | word RED  | response_transition response_switch | congruency congruent                   \n",
      "color blue | word BLUE | response_transition response_switch | congruency congruent                   \n",
      "color blue | word RED  | response_transition response_repetition | congruency incongruent                 \n",
      "color blue | word RED  | response_transition response_repetition | congruency incongruent                 \n",
      "color blue | word BLUE | response_transition response_repetition | congruency congruent                   \n",
      "color red  | word BLUE | response_transition response_switch | congruency incongruent                 \n",
      "color red  | word BLUE | response_transition response_repetition | congruency incongruent                 \n",
      "color red  | word BLUE | response_transition response_repetition | congruency incongruent                 \n",
      "color red  | word RED  | response_transition response_repetition | congruency congruent                   \n",
      "color red  | word RED  | response_transition response_repetition | congruency congruent                   \n",
      "color red  | word RED  | response_transition response_repetition | congruency congruent                   \n",
      "color red  | word BLUE | response_transition response_repetition | congruency incongruent                 \n",
      "color blue | word RED  | response_transition response_switch | congruency incongruent                 \n",
      "color red  | word BLUE | response_transition response_switch | congruency incongruent                 \n",
      "color blue | word RED  | response_transition response_switch | congruency incongruent                 \n",
      "\n"
     ]
    }
   ],
   "source": [
    "# now let's look at the sequences\n",
    "print_experiments(block, experiment)"
   ],
   "metadata": {
    "collapsed": false
   }
  },
  {
   "cell_type": "markdown",
   "source": [
    "### Export for jsPsych\n",
    "The trial sequences need to be in specific format to use in our online experiment. Luckily, sweetPea provides a convenience function to convert the sequence into this format. Let's convert the sequences and store them into a file. Here, we create a javascript file with a single object containing the trial sequences."
   ],
   "metadata": {
    "collapsed": false
   }
  },
  {
   "cell_type": "code",
   "execution_count": 55,
   "outputs": [],
   "source": [
    "# jsPsych expects feature sequences as dicts\n",
    "as_dicts = experiments_to_dicts(block, experiment)\n",
    "\n",
    "# store the sequence list into\n",
    "import json\n",
    "with open('trialSequences.js', 'w') as f:\n",
    "    f.write('const trialSequences = ')\n",
    "    json.dump(as_dicts, f)"
   ],
   "metadata": {
    "collapsed": false
   }
  },
  {
   "cell_type": "markdown",
   "source": [
    "Copy or download the file. In the Tutorial"
   ],
   "metadata": {
    "collapsed": false
   }
  }
 ],
 "metadata": {
  "kernelspec": {
   "display_name": "Python 3",
   "language": "python",
   "name": "python3"
  },
  "language_info": {
   "codemirror_mode": {
    "name": "ipython",
    "version": 2
   },
   "file_extension": ".py",
   "mimetype": "text/x-python",
   "name": "python",
   "nbconvert_exporter": "python",
   "pygments_lexer": "ipython2",
   "version": "2.7.6"
  }
 },
 "nbformat": 4,
 "nbformat_minor": 0
}
